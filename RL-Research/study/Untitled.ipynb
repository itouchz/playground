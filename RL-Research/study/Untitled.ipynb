{
 "cells": [
  {
   "cell_type": "code",
   "execution_count": 4,
   "metadata": {
    "scrolled": false
   },
   "outputs": [],
   "source": [
    "import pandas as pd\n",
    "df = pd.read_csv('../raw_data.txt', sep='\\t')"
   ]
  },
  {
   "cell_type": "code",
   "execution_count": 46,
   "metadata": {},
   "outputs": [
    {
     "data": {
      "text/plain": [
       "0          unit_1\n",
       "1          unit_1\n",
       "2          unit_1\n",
       "3          unit_1\n",
       "4          unit_1\n",
       "5          unit_1\n",
       "6          unit_1\n",
       "7          unit_1\n",
       "8          unit_1\n",
       "9          unit_1\n",
       "10         unit_1\n",
       "11         unit_1\n",
       "12         unit_1\n",
       "13         unit_1\n",
       "14         unit_1\n",
       "15         unit_1\n",
       "16         unit_1\n",
       "17         unit_1\n",
       "18         unit_1\n",
       "19         unit_1\n",
       "20         unit_1\n",
       "21         unit_1\n",
       "22         unit_1\n",
       "23         unit_1\n",
       "24         unit_1\n",
       "25         unit_1\n",
       "26         unit_1\n",
       "27         unit_1\n",
       "28         unit_1\n",
       "29         unit_1\n",
       "            ...  \n",
       "7293830    unit_3\n",
       "7293831    unit_3\n",
       "7293832    unit_3\n",
       "7293833    unit_3\n",
       "7293834    unit_3\n",
       "7293835    unit_3\n",
       "7293836    unit_3\n",
       "7293837    unit_3\n",
       "7293838    unit_3\n",
       "7293839    unit_3\n",
       "7293840    unit_3\n",
       "7293841    unit_3\n",
       "7293842    unit_3\n",
       "7293843    unit_3\n",
       "7293844    unit_3\n",
       "7293845    unit_3\n",
       "7293846    unit_3\n",
       "7293847    unit_3\n",
       "7293848    unit_3\n",
       "7293849    unit_3\n",
       "7293850    unit_3\n",
       "7293851    unit_3\n",
       "7293852    unit_3\n",
       "7293853    unit_3\n",
       "7293854    unit_3\n",
       "7293855    unit_3\n",
       "7293856    unit_3\n",
       "7293857    unit_3\n",
       "7293858    unit_3\n",
       "7293859    unit_3\n",
       "Name: unit_name, Length: 7293860, dtype: object"
      ]
     },
     "execution_count": 46,
     "metadata": {},
     "output_type": "execute_result"
    }
   ],
   "source": [
    "df['unit_name']"
   ]
  },
  {
   "cell_type": "code",
   "execution_count": null,
   "metadata": {},
   "outputs": [],
   "source": []
  }
 ],
 "metadata": {
  "kernelspec": {
   "display_name": "Python 3",
   "language": "python",
   "name": "python3"
  },
  "language_info": {
   "codemirror_mode": {
    "name": "ipython",
    "version": 3
   },
   "file_extension": ".py",
   "mimetype": "text/x-python",
   "name": "python",
   "nbconvert_exporter": "python",
   "pygments_lexer": "ipython3",
   "version": "3.6.8"
  }
 },
 "nbformat": 4,
 "nbformat_minor": 2
}
